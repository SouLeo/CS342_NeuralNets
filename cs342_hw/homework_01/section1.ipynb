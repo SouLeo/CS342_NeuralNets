{
 "cells": [
  {
   "cell_type": "markdown",
   "metadata": {},
   "source": [
    "# Verifying Python Version"
   ]
  },
  {
   "cell_type": "code",
   "execution_count": 2,
   "metadata": {},
   "outputs": [
    {
     "name": "stdout",
     "output_type": "stream",
     "text": [
      "3.6.5 |Anaconda, Inc.| (default, Mar 29 2018, 13:32:41) [MSC v.1900 64 bit (AMD64)]\n"
     ]
    }
   ],
   "source": [
    "import sys\n",
    "print(sys.version)"
   ]
  },
  {
   "cell_type": "markdown",
   "metadata": {},
   "source": [
    "# Verifying Pytorch Version"
   ]
  },
  {
   "cell_type": "code",
   "execution_count": 3,
   "metadata": {},
   "outputs": [
    {
     "name": "stdout",
     "output_type": "stream",
     "text": [
      "0.4.1\n"
     ]
    }
   ],
   "source": [
    "import torch\n",
    "print(torch.__version__)"
   ]
  },
  {
   "cell_type": "markdown",
   "metadata": {},
   "source": [
    "# Working with Tensors in Pytorch\n",
    "\n",
    "Refer [Pytorch in 60 Minutes](https://pytorch.org/tutorials/beginner/blitz/tensor_tutorial.html#getting-started) for more details"
   ]
  },
  {
   "cell_type": "markdown",
   "metadata": {},
   "source": [
    "## Creating Different Types of Tensors\n",
    "\n",
    "Read [PyTorch Tensor Creation Ops](https://pytorch.org/docs/stable/torch.html#tensor-creation-ops) for more details."
   ]
  },
  {
   "cell_type": "code",
   "execution_count": 13,
   "metadata": {},
   "outputs": [
    {
     "name": "stdout",
     "output_type": "stream",
     "text": [
      "tensor([[0.0000, 0.0000, 0.0000],\n",
      "        [0.0000, 0.0000, 0.0000],\n",
      "        [0.0000, 0.0000, 0.0000],\n",
      "        [0.0000, 0.0000, 0.0000],\n",
      "        [0.0000, 0.0000, 0.0000]])\n"
     ]
    }
   ],
   "source": [
    "# Creating An Empty Tensor\n",
    "empty_tensor = torch.empty(5, 3)\n",
    "print(empty_tensor)"
   ]
  },
  {
   "cell_type": "code",
   "execution_count": 14,
   "metadata": {},
   "outputs": [
    {
     "name": "stdout",
     "output_type": "stream",
     "text": [
      "tensor([[0.5415, 0.1129, 0.4736],\n",
      "        [0.5595, 0.5823, 0.6142],\n",
      "        [0.3889, 0.7198, 0.6705],\n",
      "        [0.9722, 0.3098, 0.1098],\n",
      "        [0.6523, 0.1987, 0.7557]])\n"
     ]
    }
   ],
   "source": [
    "# Randomly Initializing a Tensor\n",
    "random_tensor = torch.rand(5, 3)\n",
    "print(random_tensor)"
   ]
  },
  {
   "cell_type": "code",
   "execution_count": 18,
   "metadata": {},
   "outputs": [
    {
     "name": "stdout",
     "output_type": "stream",
     "text": [
      "tensor([[0, 0, 0],\n",
      "        [0, 0, 0],\n",
      "        [0, 0, 0],\n",
      "        [0, 0, 0],\n",
      "        [0, 0, 0]])\n"
     ]
    }
   ],
   "source": [
    "# Creating a zero Tensor\n",
    "zero_tensor = torch.zeros(5, 3, dtype=torch.long)\n",
    "print(zero_tensor)"
   ]
  },
  {
   "cell_type": "markdown",
   "metadata": {},
   "source": [
    "## Performing Operations on Tensors\n",
    "\n",
    "Refer [Pytorch Tensors](https://pytorch.org/docs/stable/torch.html) for detailed information about all types of operations that can be performed with tensors"
   ]
  },
  {
   "cell_type": "code",
   "execution_count": 22,
   "metadata": {},
   "outputs": [
    {
     "name": "stdout",
     "output_type": "stream",
     "text": [
      "tensor([[0.2609, 0.5766, 0.4453],\n",
      "        [0.0429, 0.7031, 0.4776],\n",
      "        [0.0019, 0.7373, 0.1882],\n",
      "        [0.6670, 0.7843, 0.8049],\n",
      "        [0.1575, 0.6519, 0.8745]])\n",
      "tensor([[0.7967, 1.0257, 1.2761],\n",
      "        [0.4084, 1.0586, 0.8303],\n",
      "        [0.1071, 1.6263, 0.7579],\n",
      "        [0.9433, 1.5213, 0.8640],\n",
      "        [0.3034, 0.6576, 1.2055]])\n",
      "tensor([[0.7967, 1.0257, 1.2761],\n",
      "        [0.4084, 1.0586, 0.8303],\n",
      "        [0.1071, 1.6263, 0.7579],\n",
      "        [0.9433, 1.5213, 0.8640],\n",
      "        [0.3034, 0.6576, 1.2055]])\n"
     ]
    }
   ],
   "source": [
    "# Adding Two Tensors\n",
    "x = torch.rand(5, 3)\n",
    "y = torch.rand(5, 3)\n",
    "print(y)\n",
    "print(x + y)\n",
    "\n",
    "# Normal Operations performed on Tensors always creates a new tensor. For mutating the same tensor, functions\n",
    "# ending with '_' are used. Read More about these in the documentation referenced above. Although, these in-place operations\n",
    "# should be avoided generally since can mess up with backpropagation which we will read about in a future class.\n",
    "y.add_(x)\n",
    "print(y)"
   ]
  },
  {
   "cell_type": "code",
   "execution_count": 21,
   "metadata": {},
   "outputs": [
    {
     "name": "stdout",
     "output_type": "stream",
     "text": [
      "tensor(0.4826)\n"
     ]
    }
   ],
   "source": [
    "# Mean of a Tensor \n",
    "# Refer https://pytorch.org/docs/stable/torch.html#torch.mean for learning the different parameters\n",
    "# that can be passed to the torch.mean() function\n",
    "\n",
    "x = torch.rand(5, 3)\n",
    "mean = torch.mean(x)\n",
    "print(mean)"
   ]
  },
  {
   "cell_type": "code",
   "execution_count": 6,
   "metadata": {},
   "outputs": [
    {
     "name": "stdout",
     "output_type": "stream",
     "text": [
      "Original Matrix\n",
      "tensor([[0.5171, 0.3085, 0.3660],\n",
      "        [0.7481, 0.6085, 0.4808],\n",
      "        [0.4394, 0.9441, 0.4091],\n",
      "        [0.4761, 0.6302, 0.1447],\n",
      "        [0.4793, 0.8272, 0.0664]])\n",
      "Output of performing x**2\n",
      "tensor([[0.2674, 0.0952, 0.1339],\n",
      "        [0.5597, 0.3703, 0.2312],\n",
      "        [0.1930, 0.8914, 0.1674],\n",
      "        [0.2267, 0.3972, 0.0209],\n",
      "        [0.2297, 0.6842, 0.0044]])\n",
      "Output of performing x*x\n",
      "tensor([[0.2674, 0.0952, 0.1339],\n",
      "        [0.5597, 0.3703, 0.2312],\n",
      "        [0.1930, 0.8914, 0.1674],\n",
      "        [0.2267, 0.3972, 0.0209],\n",
      "        [0.2297, 0.6842, 0.0044]])\n",
      "Output of performing torch.mul(x,x)\n",
      "tensor([[0.2674, 0.0952, 0.1339],\n",
      "        [0.5597, 0.3703, 0.2312],\n",
      "        [0.1930, 0.8914, 0.1674],\n",
      "        [0.2267, 0.3972, 0.0209],\n",
      "        [0.2297, 0.6842, 0.0044]])\n"
     ]
    }
   ],
   "source": [
    "# Squaring all elements of a Tensor\n",
    "x = torch.rand(5,3)\n",
    "print(\"Original Matrix\")\n",
    "print(x)\n",
    "\n",
    "# Multiple ways of performing the square operation.\n",
    "print(\"Output of performing x**2\")\n",
    "print(x**2)\n",
    "\n",
    "print(\"Output of performing x*x\")\n",
    "print(x*x)\n",
    "\n",
    "print(\"Output of performing torch.mul(x,x)\")\n",
    "print(torch.mul(x,x))"
   ]
  },
  {
   "cell_type": "code",
   "execution_count": 9,
   "metadata": {},
   "outputs": [
    {
     "name": "stdout",
     "output_type": "stream",
     "text": [
      "Original Matrix\n",
      "tensor([[0.5349, 0.7074, 0.4162],\n",
      "        [0.7517, 0.6515, 0.6553],\n",
      "        [0.5924, 0.8421, 0.9170],\n",
      "        [0.1435, 0.2997, 0.0393],\n",
      "        [0.8689, 0.7978, 0.7075]])\n",
      "Output torch.sqrt(x)\n",
      "[[0.7313988  0.8410847  0.6451696 ]\n",
      " [0.8669845  0.807185   0.80953074]\n",
      " [0.7696525  0.9176361  0.9576139 ]\n",
      " [0.37882388 0.5474616  0.19829525]\n",
      " [0.932167   0.8932035  0.841157  ]]\n"
     ]
    }
   ],
   "source": [
    "# Square Root of a Tensor\n",
    "x = torch.rand(5, 3)\n",
    "print(\"Original Matrix\")\n",
    "print(x)\n",
    "print(\"Output torch.sqrt(x)\")\n",
    "# Also converting the final result tensor to a numpy array\n",
    "print(torch.sqrt(x).numpy())"
   ]
  },
  {
   "cell_type": "code",
   "execution_count": null,
   "metadata": {},
   "outputs": [],
   "source": []
  }
 ],
 "metadata": {
  "kernelspec": {
   "display_name": "Python 3",
   "language": "python",
   "name": "python3"
  },
  "language_info": {
   "codemirror_mode": {
    "name": "ipython",
    "version": 3
   },
   "file_extension": ".py",
   "mimetype": "text/x-python",
   "name": "python",
   "nbconvert_exporter": "python",
   "pygments_lexer": "ipython3",
   "version": "3.6.5"
  }
 },
 "nbformat": 4,
 "nbformat_minor": 2
}
